{
  "nbformat": 4,
  "nbformat_minor": 0,
  "metadata": {
    "colab": {
      "name": "sp6.DecisionTree.ipynb",
      "provenance": []
    },
    "kernelspec": {
      "name": "python3",
      "display_name": "Python 3"
    },
    "language_info": {
      "name": "python"
    }
  },
  "cells": [
    {
      "cell_type": "markdown",
      "metadata": {
        "id": "vn6hTSmM_kXk"
      },
      "source": [
        "\n",
        "CART法/分岐は2つに分かれるのみ\n",
        "\n",
        "（最大の）深さ : 深さ1の実装"
      ]
    },
    {
      "cell_type": "code",
      "metadata": {
        "id": "jCcGsynJ9s4F"
      },
      "source": [
        "import numpy as np\n",
        "import matplotlib.pyplot as plt\n",
        "import pandas as pd\n",
        "import scipy\n",
        "\n",
        "from sklearn.model_selection import train_test_split"
      ],
      "execution_count": 26,
      "outputs": []
    },
    {
      "cell_type": "markdown",
      "metadata": {
        "id": "_jG9CmFk8_oV"
      },
      "source": [
        "## 【問題1】 不純度を求める関数\n",
        "## 【問題２】情報利得を求める関数\n",
        "## 【問題３】学習\n",
        "## 【問題4】推定"
      ]
    },
    {
      "cell_type": "markdown",
      "metadata": {
        "id": "rPVs_FeKCK6k"
      },
      "source": [
        "$\n",
        " I G ( p ) = I ( p ) − \\frac{N l e f t , a l l}{N p , a l l}  I ( l e f t ) − \\frac{N right , a l l}{N p , a l l}, I ( r i g h t ) \n",
        "$"
      ]
    },
    {
      "cell_type": "code",
      "metadata": {
        "colab": {
          "base_uri": "https://localhost:8080/"
        },
        "id": "BtxHLRTd9DBT",
        "outputId": "77982670-2d32-40f6-940c-b04c2ba35776"
      },
      "source": [
        "x = np.array([\n",
        "    [-0.44699 , -2.8073  ],[-1.4621  , -2.4586  ],\n",
        "    [ 0.10645 ,  1.9242  ],[-3.5944  , -4.0112  ],\n",
        "    [-0.9888  ,  4.5718  ],[-3.1625  , -3.9606  ],\n",
        "    [ 0.56421 ,  0.72888 ],[-0.60216 ,  8.4636  ],\n",
        "    [-0.61251 , -0.75345 ],[-0.73535 , -2.2718  ],\n",
        "    [-0.80647 , -2.2135  ],[ 0.86291 ,  2.3946  ],\n",
        "    [-3.1108  ,  0.15394 ],[-2.9362  ,  2.5462  ],\n",
        "    [-0.57242 , -2.9915  ],[ 1.4771  ,  3.4896  ],\n",
        "    [ 0.58619 ,  0.37158 ],[ 0.6017  ,  4.3439  ],\n",
        "    [-2.1086  ,  8.3428  ],[-4.1013  , -4.353   ],\n",
        "    [-1.9948  , -1.3927  ],[ 0.35084 , -0.031994],\n",
        "    [ 0.96765 ,  7.8929  ],[-1.281   , 15.6824  ],\n",
        "    [ 0.96765 , 10.083   ],[ 1.3763  ,  1.3347  ],\n",
        "    [-2.234   , -2.5323  ],[-2.9452  , -1.8219  ],\n",
        "    [ 0.14654 , -0.28733 ],[ 0.5461  ,  5.8245  ],\n",
        "    [-0.65259 ,  9.3444  ],[ 0.59912 ,  5.3524  ],\n",
        "    [ 0.50214 , -0.31818 ],[-3.0603  , -3.6461  ],\n",
        "    [-6.6797  ,  0.67661 ],[-2.353   , -0.72261 ],\n",
        "    [ 1.1319  ,  2.4023  ],[-0.12243 ,  9.0162  ],\n",
        "    [-2.5677  , 13.1779  ],[ 0.057313,  5.4681  ],\n",
        "])\n",
        "\n",
        "\n",
        "# 合計\n",
        "# ６４回\n",
        "\n",
        "\n",
        "y = np.array([0, 0, 0, 0, 0, 0, 0, 0, 0, 0, 0, 0, 0, 0, 0, 0, 0, 0, 0, 0, 1, 1,\n",
        "       1, 1, 1, 1, 1, 1, 1, 1, 1, 1, 1, 1, 1, 1, 1, 1, 1, 1])\n",
        "\n",
        "# print(x)\n",
        "# print(y.shape)\n",
        "\n",
        "df = pd.DataFrame(x, y)\n",
        "# display(df)\n",
        "\n",
        "# 利用データ\n",
        "x_train, x_test, y_train, y_test = train_test_split(x, y, train_size=0.8, random_state=42)\n",
        "# print(x_train)\n",
        "# print('x_train.shape')\n",
        "# print(x_train.shape)\n",
        "# print(x_test)\n",
        "# print('x_test.shape')\n",
        "# print(x_test.shape)\n",
        "# print(y_train)\n",
        "# print(y_train.shape)\n",
        "# print(y_test)\n",
        "# print(y_test.shape)\n",
        "\n",
        "# print(scipy.stats.mode(y))"
      ],
      "execution_count": 230,
      "outputs": [
        {
          "output_type": "stream",
          "text": [
            "[[ 0.057313  5.4681  ]\n",
            " [ 0.56421   0.72888 ]\n",
            " [ 1.3763    1.3347  ]\n",
            " [-0.73535  -2.2718  ]\n",
            " [-2.9362    2.5462  ]\n",
            " [ 0.59912   5.3524  ]\n",
            " [-6.6797    0.67661 ]\n",
            " [-0.61251  -0.75345 ]\n",
            " [ 0.6017    4.3439  ]\n",
            " [ 0.96765  10.083   ]\n",
            " [-0.44699  -2.8073  ]\n",
            " [-3.0603   -3.6461  ]\n",
            " [-3.1625   -3.9606  ]\n",
            " [ 0.86291   2.3946  ]\n",
            " [-1.4621   -2.4586  ]\n",
            " [ 0.5461    5.8245  ]\n",
            " [ 0.35084  -0.031994]\n",
            " [ 0.10645   1.9242  ]\n",
            " [-0.65259   9.3444  ]\n",
            " [ 1.1319    2.4023  ]\n",
            " [-3.5944   -4.0112  ]\n",
            " [-2.353    -0.72261 ]\n",
            " [-1.281    15.6824  ]\n",
            " [ 0.50214  -0.31818 ]\n",
            " [-0.80647  -2.2135  ]\n",
            " [ 0.96765   7.8929  ]\n",
            " [-2.1086    8.3428  ]\n",
            " [-1.9948   -1.3927  ]\n",
            " [-0.60216   8.4636  ]\n",
            " [-0.57242  -2.9915  ]\n",
            " [ 0.14654  -0.28733 ]\n",
            " [-2.5677   13.1779  ]]\n",
            "x_train.shape\n",
            "(32, 2)\n",
            "[[-4.1013  -4.353  ]\n",
            " [ 0.58619  0.37158]\n",
            " [ 1.4771   3.4896 ]\n",
            " [-2.234   -2.5323 ]\n",
            " [-0.9888   4.5718 ]\n",
            " [-3.1108   0.15394]\n",
            " [-0.12243  9.0162 ]\n",
            " [-2.9452  -1.8219 ]]\n",
            "x_test.shape\n",
            "(8, 2)\n",
            "(32,)\n",
            "(8,)\n"
          ],
          "name": "stdout"
        }
      ]
    },
    {
      "cell_type": "code",
      "metadata": {
        "id": "c1esDy7x_TsH",
        "colab": {
          "base_uri": "https://localhost:8080/"
        },
        "outputId": "8949ed21-2c21-48f4-8d56-4b35260e2a89"
      },
      "source": [
        "class ScratchDecesionTreeClassifierDepth1():\n",
        "    \"\"\"\n",
        "    深さ1の決定木分類器のスクラッチ実装\n",
        "    Parameters\n",
        "    ----------\n",
        "    verbose : bool\n",
        "      学習過程を出力する場合はTrue\n",
        "    \"\"\"\n",
        "    def __init__(self, verbose=False):\n",
        "        # ハイパーパラメータを属性として記録\n",
        "        self.verbose = verbose\n",
        "        self.threshold_list = np.array([]) #閾値の初期化\n",
        "\n",
        "    # 問題３\n",
        "    def fit(self, x, y):\n",
        "        \"\"\"\n",
        "        決定木分類器を学習する\n",
        "        Parameters\n",
        "        ----------\n",
        "        x : 次の形のndarray, shape (n_samples, n_features)\n",
        "            訓練データの特徴量\n",
        "        y : 次の形のndarray, shape (n_samples, )\n",
        "            訓練データの正解値\n",
        "        \"\"\"\n",
        "\n",
        "        self.y_value = np.unique(y) #ターゲット変数の中身を抽出（二値分類なので０か１）\n",
        "\n",
        "        # 分割回数は１回\n",
        "        # グラフを生成する\n",
        "        # 特徴量１...[:, 0], 特徴量2...[:, 1] left=0  right=1 として特徴量の列をそれぞれに入れていく処理を繰り返す\n",
        "        # x_trainの合計数３２を０か１に割り振りをする。\n",
        "        # 最適の分割を探す\n",
        "\n",
        "        best_gini_index = 0.0 # 不純度初期化\n",
        "        best_feature = None\n",
        "        best_threshold = None\n",
        "\n",
        "        # 説明変数の行と列数\n",
        "        self.num_x = x.shape[0]\n",
        "        n_features = x.shape[1]\n",
        "\n",
        "        for n in range(n_features):\n",
        "            # 分割候補の計算\n",
        "            x_n = np.unique(x[:, n]) # n番目の列の特徴量（重複排除）\n",
        "            points = (x_n[:-1] + x_n[1:]) / 2.0 # 隣の値との中間値を計算\n",
        "            # pointにはx_trainと同じshape数（重複値は排除）\n",
        "\n",
        "            # 各分割を試す（中間の値を閾値とする）\n",
        "            for threshold in points:\n",
        "                # しきい値で2グループに分割\n",
        "                # yデータ中の、xのn列の特徴量のインデックスが閾値より大きいか\n",
        "                y_data_left = y[x[:, n] <  threshold]#閾値より小さい　leftへ\n",
        "                y_data_right = y[x[:, n] >= threshold]#閾値より大きい　rightへ\n",
        "\n",
        "                # 分割後の不純度からGiniインデックスを計算\n",
        "                gini_left = self._gini_impure(y_data_left)#閾値より小さいデータの不純度\n",
        "                gini_right = self._gini_impure(y_data_right)#閾値より大きいデータの不純度\n",
        "\n",
        "                # print(float(y_data_left.shape[0]))\n",
        "                pl = float(y_data_left.shape[0]) / self.num_x\n",
        "                pr = float(y_data_right.shape[0]) / self.num_x\n",
        "\n",
        "                # 根ノードの不純度から\n",
        "                # gini_index = y_gini - (pl * gini_left - pr * gini_right)\n",
        "                gini_index = self._information_gain(y, gini_left, gini_right, pl, pr)#情報利得\n",
        "\n",
        "                #一番利得の大きい番号の【データ中身・インデックス・閾値】を更新していく\n",
        "                # 要するに、最後に残ったものがベスト\n",
        "                if gini_index > best_gini_index:\n",
        "                    best_gini_index = gini_index#良い分割のデータ中身を保存\n",
        "                    best_feature = n#そのデータのインデックス\n",
        "                    best_threshold = threshold#その時の閾値\n",
        "\n",
        "            if best_gini_index == 0:\n",
        "              return\n",
        "\n",
        "        # 最良の分割を保持する\n",
        "        self.gini_index = best_gini_index\n",
        "        self.feature = best_feature\n",
        "        self.threshold = best_threshold\n",
        "\n",
        "        if self.verbose:\n",
        "            #verboseをTrueにした際は学習過程を出力\n",
        "            print()\n",
        "    # 問題４\n",
        "    def predict(self, x):\n",
        "        \"\"\"\n",
        "        決定木分類器を使いラベルを推定する\n",
        "        \"\"\"\n",
        "        self.gini_index#良い分割のデータ中身を保存 #0.9838709677419355\n",
        "        self.feature#そのデータのインデックス #0\n",
        "        self.threshold#その時の閾値 #-5.3905\n",
        "\n",
        "        print(self.gini_index);print(self.feature);print(self.threshold) \n",
        "\n",
        "        #np.where(x < self.threshold) 条件１\n",
        "        predict = np.zeros(len(x))\n",
        "\n",
        "        for i in range(x.shape[0]):\n",
        "          if x[x[:, self.feature] < self.threshold]:\n",
        "            predict[i] = self.y_value[0]\n",
        "          else:\n",
        "            predict[i] = self.y_value[1]\n",
        "        return predict\n",
        "\n",
        "    # 問題１　ジニ不純度を求める関数　DIVERの式を違った形で表現（ノート参照）\n",
        "    # def _gini_impure(self, x):\n",
        "    #     # ジニ不純度を求める関数\n",
        "    #     # 分子＝サンプルの値、　分母＝総サンプルの値\n",
        "    #     gini = sum(x / sum(x) * (1 - x / sum(x)))\n",
        "    #     # gini = np.append(gini, g)\n",
        "    #     return gini\n",
        "    ##↑↑↑↑↑↑最初に作ったジニ不純度を求める関数↑↑↑↑↑↑\n",
        "    # 問題１\n",
        "    def _gini_impure(self, y):\n",
        "      # ジニ不純度を求める関数（DIVER問題1の式のまま）\n",
        "        gini = 1\n",
        "        for i in np.unique(y):\n",
        "          gini = gini - (len(y[y == i]) / y.shape[0]) ** 2\n",
        "        return gini\n",
        "    # 問題２\n",
        "    def _information_gain(self, y, left, right, pl, pr):\n",
        "        # 情報利得を計算して返す関数\n",
        "        base_gini = self._gini_impure(y) #根ノードのジニ不純度\n",
        "        gain = base_gini - (pl * left - pr * right)\n",
        "        return gain\n",
        "\n",
        "# my_gain = x_gini - ((left / sum(x) * left_gini) - (right / sum(x) * right_gini))\n",
        "# sam_gain = x_gini - ((left / sum(x) * left_gini) - (right / sum(x) * right_gini))\n",
        "# 1.訓練データの全ての組み合わせの分割を行う（32×2）\n",
        "# 2.分割したデータを繰り返し_information_gain(self, x, left, right)に通して、情報利得のreturnを変数に保存する\n",
        "# 3.情報利得が一番大きい組み合わせを基準して保存する\n",
        "\n",
        "\n",
        "# 問題５\n",
        "myTREE = ScratchDecesionTreeClassifierDepth1()\n",
        "myTREE.fit(x_train, y_train)\n",
        "my_predict = myTREE.predict(x_test)\n",
        "print(f'my_predict : {my_predict}')\n"
      ],
      "execution_count": 240,
      "outputs": [
        {
          "output_type": "stream",
          "text": [
            "0.9819178427419355\n",
            "0\n",
            "-5.13705\n",
            "my_predict : [1. 1. 1. 1. 1. 1. 1. 1.]\n"
          ],
          "name": "stdout"
        },
        {
          "output_type": "stream",
          "text": [
            "/usr/local/lib/python3.7/dist-packages/ipykernel_launcher.py:100: DeprecationWarning: The truth value of an empty array is ambiguous. Returning False, but in future this will result in an error. Use `array.size > 0` to check that an array is not empty.\n"
          ],
          "name": "stderr"
        }
      ]
    },
    {
      "cell_type": "markdown",
      "metadata": {
        "id": "u4qTLbma58jc"
      },
      "source": [
        "## 問題５　学習と推定"
      ]
    },
    {
      "cell_type": "code",
      "metadata": {
        "colab": {
          "base_uri": "https://localhost:8080/"
        },
        "id": "cTZd7Usw42qm",
        "outputId": "ff05215d-0a50-48f2-feb9-9d304d2a1572"
      },
      "source": [
        "from sklearn.metrics import confusion_matrix, accuracy_score, precision_score, recall_score, f1_score\n",
        "\n",
        "# スクラッチの結果\n",
        "print(f'混同行列 : \\n {confusion_matrix(y_test,my_predict)}')\n",
        "print(f'正解率 : \\n {accuracy_score(y_test,my_predict)}')\n",
        "print(f'適合率 : \\n {precision_score(y_test,my_predict)}')\n",
        "print(f'再現率 : \\n {recall_score(y_test,my_predict)}')\n",
        "print(f'F1値  :  \\n{f1_score(y_test,my_predict)}')"
      ],
      "execution_count": 238,
      "outputs": [
        {
          "output_type": "stream",
          "text": [
            "混同行列 : \n",
            " [[0 5]\n",
            " [0 3]]\n",
            "正解率 : \n",
            " 0.375\n",
            "適合率 : \n",
            " 0.375\n",
            "再現率 : \n",
            " 1.0\n",
            "F1値  :  \n",
            "0.5454545454545454\n"
          ],
          "name": "stdout"
        }
      ]
    },
    {
      "cell_type": "code",
      "metadata": {
        "colab": {
          "base_uri": "https://localhost:8080/"
        },
        "id": "Khb1e5QW24ld",
        "outputId": "12175e5c-dbb7-42bc-ab2d-25d4be577f68"
      },
      "source": [
        "# モデル sklearn\n",
        "from sklearn import tree\n",
        "clf = tree.DecisionTreeClassifier(criterion='gini', max_depth=1)\n",
        "clf = clf.fit(x_train, y_train)\n",
        "\n",
        "sk_predict = clf.predict(x_test)\n",
        "\n",
        "print(sk_predict)\n",
        "print(sk_predict.shape)"
      ],
      "execution_count": 232,
      "outputs": [
        {
          "output_type": "stream",
          "text": [
            "[0 1 1 0 1 1 1 0]\n",
            "(8,)\n"
          ],
          "name": "stdout"
        }
      ]
    },
    {
      "cell_type": "markdown",
      "metadata": {
        "id": "_yGQbZIQ50HX"
      },
      "source": [
        "## 問題６ 可視化"
      ]
    },
    {
      "cell_type": "code",
      "metadata": {
        "colab": {
          "base_uri": "https://localhost:8080/"
        },
        "id": "D0sT_-8x6xU1",
        "outputId": "2bd7c957-c761-428d-a6c7-cf9b914de9e0"
      },
      "source": [
        "# 問題６　可視化\n",
        "\n",
        "from matplotlib.colors import ListedColormap\n",
        "import matplotlib.patches as mpatches\n",
        "\n",
        "\n",
        "def decision_region(X, y, model, step=0.01, title='decision region', xlabel='xlabel', ylabel='ylabel', target_names=['versicolor', 'virginica']):\n",
        "    \"\"\"\n",
        "    2値分類を2次元の特徴量で学習したモデルの決定領域を描く。\n",
        "    背景の色が学習したモデルによる推定値から描画される。\n",
        "    散布図の点は訓練データまたは検証データである。\n",
        "    Parameters\n",
        "    ----------------\n",
        "    X : ndarray, shape(n_samples, 2)\n",
        "        特徴量\n",
        "    y : ndarray, shape(n_samples,)\n",
        "        ラベル\n",
        "    model : object\n",
        "        学習したモデルのインスンタスを入れる\n",
        "    step : float, (default : 0.1)\n",
        "        推定値を計算する間隔を設定する\n",
        "    title : str\n",
        "        グラフのタイトルの文章を与える\n",
        "    xlabel, ylabel : str\n",
        "        軸ラベルの文章を与える\n",
        "    target_names= : list of str\n",
        "        凡例の一覧を与える\n",
        "    \"\"\"\n",
        "    # setting\n",
        "    scatter_color = ['red', 'blue']\n",
        "    contourf_color = ['pink', 'skyblue']\n",
        "    n_class = 2\n",
        "    # pred\n",
        "    mesh_f0, mesh_f1  = np.meshgrid(np.arange(np.min(X[:,0])-0.5, np.max(X[:,0])+0.5, step), np.arange(np.min(X[:,1])-0.5, np.max(X[:,1])+0.5, step))\n",
        "    mesh = np.c_[np.ravel(mesh_f0),np.ravel(mesh_f1)]\n",
        "    y_pred = model.predict(mesh).reshape(mesh_f0.shape)\n",
        "    \n",
        "    # plot\n",
        "    plt.title(title)\n",
        "    plt.xlabel(xlabel)\n",
        "    plt.ylabel(ylabel)\n",
        "    plt.contourf(mesh_f0, mesh_f1, y_pred, n_class-1, cmap=ListedColormap(contourf_color))\n",
        "    plt.contour(mesh_f0, mesh_f1, y_pred, n_class-1, colors='y', linewidths=3, alpha=0.5)\n",
        "    \n",
        "    for i, target in enumerate(set(y)):\n",
        "        plt.scatter(X[y==target][:, 0], X[y==target][:, 1], s=80, color=scatter_color[i], label=target_names[i], marker='o')\n",
        "    patches = [mpatches.Patch(color=scatter_color[i], label=target_names[i]) for i in range(n_class)]\n",
        "    plt.legend(handles=patches)\n",
        "    plt.legend()\n",
        "    plt.show()\n",
        "\n",
        "print(decision_region(x_test, y_test, myTREE))\n"
      ],
      "execution_count": null,
      "outputs": [
        {
          "output_type": "stream",
          "text": [
            "0.9819178427419355\n",
            "0\n",
            "-5.13705\n"
          ],
          "name": "stdout"
        },
        {
          "output_type": "stream",
          "text": [
            "/usr/local/lib/python3.7/dist-packages/ipykernel_launcher.py:100: DeprecationWarning: The truth value of an empty array is ambiguous. Returning False, but in future this will result in an error. Use `array.size > 0` to check that an array is not empty.\n"
          ],
          "name": "stderr"
        }
      ]
    },
    {
      "cell_type": "code",
      "metadata": {
        "colab": {
          "base_uri": "https://localhost:8080/",
          "height": 312
        },
        "id": "-9A8Qbes3y14",
        "outputId": "f51804e5-f487-404c-9762-90172f6580a7"
      },
      "source": [
        "print(decision_region(x_test, y_test, clf))"
      ],
      "execution_count": 237,
      "outputs": [
        {
          "output_type": "display_data",
          "data": {
            "image/png": "[encoded data removed]",
            "text/plain": [
              "<Figure size 432x288 with 1 Axes>"
            ]
          },
          "metadata": {
            "tags": [],
            "needs_background": "light"
          }
        },
        {
          "output_type": "stream",
          "text": [
            "None\n"
          ],
          "name": "stdout"
        }
      ]
    }
  ]
}